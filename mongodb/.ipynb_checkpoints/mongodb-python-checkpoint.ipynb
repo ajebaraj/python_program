{
 "cells": [
  {
   "cell_type": "markdown",
   "id": "d49f96cb",
   "metadata": {},
   "source": [
    "### Importing requirements"
   ]
  },
  {
   "cell_type": "code",
   "execution_count": 1,
   "id": "318dad5a",
   "metadata": {},
   "outputs": [],
   "source": [
    "import pymongo"
   ]
  },
  {
   "cell_type": "markdown",
   "id": "b81af623",
   "metadata": {},
   "source": [
    "### Connecting to local mongodb"
   ]
  },
  {
   "cell_type": "code",
   "execution_count": 2,
   "id": "42096c7b",
   "metadata": {},
   "outputs": [],
   "source": [
    "client = pymongo.MongoClient('mongodb://127.0.0.1:27017')"
   ]
  },
  {
   "cell_type": "markdown",
   "id": "21e0b3be",
   "metadata": {},
   "source": [
    "### Creating database"
   ]
  },
  {
   "cell_type": "code",
   "execution_count": 4,
   "id": "f70704a1",
   "metadata": {},
   "outputs": [],
   "source": [
    "db = client['student']\n"
   ]
  },
  {
   "cell_type": "markdown",
   "id": "c8413321",
   "metadata": {},
   "source": [
    "### Creating collection"
   ]
  },
  {
   "cell_type": "code",
   "execution_count": 6,
   "id": "3d81a260",
   "metadata": {},
   "outputs": [],
   "source": [
    "info = db.col1"
   ]
  },
  {
   "cell_type": "code",
   "execution_count": 7,
   "id": "99cab8f0",
   "metadata": {},
   "outputs": [],
   "source": [
    "records = {\n",
    "    'fname' : 'manju',\n",
    "    'lname' : 'reddy',\n",
    "    'dept' : 'tech'\n",
    "}"
   ]
  },
  {
   "cell_type": "markdown",
   "id": "27967f61",
   "metadata": {},
   "source": [
    "### Insert records"
   ]
  },
  {
   "cell_type": "code",
   "execution_count": 8,
   "id": "baa41f5b",
   "metadata": {},
   "outputs": [
    {
     "data": {
      "text/plain": [
       "<pymongo.results.InsertOneResult at 0x7f95641e8f00>"
      ]
     },
     "execution_count": 8,
     "metadata": {},
     "output_type": "execute_result"
    }
   ],
   "source": [
    "info.insert_one(records)"
   ]
  },
  {
   "cell_type": "markdown",
   "id": "4a1c679c",
   "metadata": {},
   "source": [
    "### Insert many records"
   ]
  },
  {
   "cell_type": "code",
   "execution_count": 9,
   "id": "6dab4655",
   "metadata": {},
   "outputs": [
    {
     "data": {
      "text/plain": [
       "<pymongo.results.InsertManyResult at 0x7f95641ffb40>"
      ]
     },
     "execution_count": 9,
     "metadata": {},
     "output_type": "execute_result"
    }
   ],
   "source": [
    "records = [\n",
    "    {\n",
    "    'fname' : 'manju1',\n",
    "    'lname' : 'reddy1',\n",
    "    'dept' : 'tech1'\n",
    "    },\n",
    "    {\n",
    "    'fname' : 'manju2',\n",
    "    'lname' : 'reddy2',\n",
    "    'dept' : 'tech2'\n",
    "    },\n",
    "    {\n",
    "    'fname' : 'manju3',\n",
    "    'lname' : 'reddy3',\n",
    "    'dept' : 'tech3'\n",
    "    },\n",
    "    {\n",
    "    'fname' : 'manju4',\n",
    "    'lname' : 'reddy4',\n",
    "    'dept' : 'tech4'\n",
    "    }\n",
    "]\n",
    "info.insert_many(records)"
   ]
  },
  {
   "cell_type": "markdown",
   "id": "94bf3c75",
   "metadata": {},
   "source": [
    "### show collection data"
   ]
  },
  {
   "cell_type": "code",
   "execution_count": 13,
   "id": "3b61a769",
   "metadata": {},
   "outputs": [
    {
     "name": "stdout",
     "output_type": "stream",
     "text": [
      "{'_id': ObjectId('60c85b786cae20be464f8c73'), 'fname': 'manju', 'lname': 'reddy', 'dept': 'tech'}\n",
      "{'_id': ObjectId('60c85bdb6cae20be464f8c74'), 'fname': 'manju1', 'lname': 'reddy1', 'dept': 'tech1'}\n",
      "{'_id': ObjectId('60c85bdb6cae20be464f8c75'), 'fname': 'manju2', 'lname': 'reddy2', 'dept': 'tech2'}\n",
      "{'_id': ObjectId('60c85bdb6cae20be464f8c76'), 'fname': 'manju3', 'lname': 'reddy3', 'dept': 'tech3'}\n",
      "{'_id': ObjectId('60c85bdb6cae20be464f8c77'), 'fname': 'manju4', 'lname': 'reddy4', 'dept': 'tech4'}\n"
     ]
    }
   ],
   "source": [
    "all_data = db.col1.find()\n",
    "for data in all_data:\n",
    "    print(data)"
   ]
  },
  {
   "cell_type": "markdown",
   "id": "e86a3dec",
   "metadata": {},
   "source": [
    "# "
   ]
  },
  {
   "cell_type": "code",
   "execution_count": 17,
   "id": "feec139c",
   "metadata": {},
   "outputs": [],
   "source": [
    "record = {\n",
    "    'fname' : 'manju',\n",
    "    'lanme' : 'reddy',\n",
    "    'dept' : 'sales'\n",
    "}"
   ]
  },
  {
   "cell_type": "code",
   "execution_count": 18,
   "id": "f99eb916",
   "metadata": {},
   "outputs": [
    {
     "data": {
      "text/plain": [
       "<pymongo.results.InsertOneResult at 0x7f95641ffd80>"
      ]
     },
     "execution_count": 18,
     "metadata": {},
     "output_type": "execute_result"
    }
   ],
   "source": [
    "info.insert_one(record)"
   ]
  },
  {
   "cell_type": "code",
   "execution_count": 76,
   "id": "d23e2b06",
   "metadata": {},
   "outputs": [
    {
     "name": "stdout",
     "output_type": "stream",
     "text": [
      "{'_id': ObjectId('60c85b786cae20be464f8c73'), 'fname': 'manju', 'lname': 'reddy', 'dept': 'tech'}\n"
     ]
    }
   ],
   "source": [
    "res = db.col1.find({'fname':'manju'} and {'dept' : 'tech'} )\n",
    "for i in res:\n",
    "    print(i)"
   ]
  },
  {
   "cell_type": "markdown",
   "id": "450546f7",
   "metadata": {},
   "source": [
    "### Updating Records\n",
    "\n",
    "<ul>\n",
    "    <h4><li> update_one() </li>\n",
    "    <li> update_many() </li>\n",
    "    <li> replace_one() </li></h4>\n",
    "</ul>"
   ]
  },
  {
   "cell_type": "code",
   "execution_count": 88,
   "id": "5cedfa03",
   "metadata": {
    "scrolled": true
   },
   "outputs": [
    {
     "name": "stdout",
     "output_type": "stream",
     "text": [
      "{'_id': ObjectId('60c85b786cae20be464f8c73'), 'fname': 'manju', 'lname': 'reddy', 'dept': 'tech', 'lastModified': datetime.datetime(2021, 6, 15, 13, 31, 9, 834000)}\n",
      "{'_id': ObjectId('60c85bdb6cae20be464f8c74'), 'fname': 'manju1', 'lname': 'reddy1', 'dept': 'tech1'}\n",
      "{'_id': ObjectId('60c85bdb6cae20be464f8c75'), 'fname': 'manju2', 'lname': 'reddy2', 'dept': 'tech2'}\n",
      "{'_id': ObjectId('60c85bdb6cae20be464f8c76'), 'fname': 'manju3', 'lname': 'reddy3', 'dept': 'tech3'}\n",
      "{'_id': ObjectId('60c85bdb6cae20be464f8c77'), 'fname': 'manju4', 'lname': 'reddy4', 'dept': 'tech4'}\n",
      "{'_id': ObjectId('60c861436cae20be464f8c78'), 'fname': 'manju', 'lanme': 'reddy', 'dept': 'sales'}\n",
      "{'_id': ObjectId('60c894086cae20be464f8c7a'), 'sport': {'q1': {'question': 'Which one is correct team name in NBA?', 'options': ['New York Bulls', 'Los Angeles Kings', 'Golden State Warriros', 'Huston Rocket'], 'answer': 'Huston Rocket'}}, 'maths': {'q1': {'question': '5 + 7 = ?', 'options': ['10', '11', '12', '13'], 'answer': '12'}, 'q2': {'question': '12 - 8 = ?', 'options': ['1', '2', '3', '4'], 'answer': '4'}}}\n"
     ]
    }
   ],
   "source": [
    "res = db.col1.find()\n",
    "\n",
    "for i in res:\n",
    "    print(i)"
   ]
  },
  {
   "cell_type": "code",
   "execution_count": 89,
   "id": "4a9e3168",
   "metadata": {},
   "outputs": [
    {
     "name": "stdout",
     "output_type": "stream",
     "text": [
      "{'_id': ObjectId('60c85b786cae20be464f8c73'), 'fname': 'manju', 'lname': 'reddy', 'dept': 'tech', 'lastModified': datetime.datetime(2021, 6, 15, 13, 32, 5, 805000)}\n",
      "{'_id': ObjectId('60c85bdb6cae20be464f8c74'), 'fname': 'manju1', 'lname': 'reddy1', 'dept': 'tech1'}\n",
      "{'_id': ObjectId('60c85bdb6cae20be464f8c75'), 'fname': 'manju2', 'lname': 'reddy2', 'dept': 'tech2'}\n",
      "{'_id': ObjectId('60c85bdb6cae20be464f8c76'), 'fname': 'manju3', 'lname': 'reddy3', 'dept': 'tech3'}\n",
      "{'_id': ObjectId('60c85bdb6cae20be464f8c77'), 'fname': 'manju4', 'lname': 'reddy4', 'dept': 'tech4'}\n",
      "{'_id': ObjectId('60c861436cae20be464f8c78'), 'fname': 'manju', 'lanme': 'reddy', 'dept': 'sales'}\n",
      "{'_id': ObjectId('60c894086cae20be464f8c7a'), 'sport': {'q1': {'question': 'Which one is correct team name in NBA?', 'options': ['New York Bulls', 'Los Angeles Kings', 'Golden State Warriros', 'Huston Rocket'], 'answer': 'Huston Rocket'}}, 'maths': {'q1': {'question': '5 + 7 = ?', 'options': ['10', '11', '12', '13'], 'answer': '12'}, 'q2': {'question': '12 - 8 = ?', 'options': ['1', '2', '3', '4'], 'answer': '4'}}}\n"
     ]
    }
   ],
   "source": [
    "db.col1.update_one(\n",
    "    {'fname':'manju'},\n",
    "    {'$currentDate': { \"lastModified\": True }}\n",
    ")\n",
    "\n",
    "res = db.col1.find()\n",
    "\n",
    "for i in res:\n",
    "    print(i)"
   ]
  },
  {
   "cell_type": "code",
   "execution_count": 90,
   "id": "d9566d61",
   "metadata": {},
   "outputs": [
    {
     "name": "stdout",
     "output_type": "stream",
     "text": [
      "{'_id': ObjectId('60c85b786cae20be464f8c73'), 'fname': 'manju', 'lname': 'reddy', 'dept': 'tech', 'lastModified': datetime.datetime(2021, 6, 15, 13, 32, 24, 233000)}\n",
      "{'_id': ObjectId('60c85bdb6cae20be464f8c74'), 'fname': 'manju1', 'lname': 'reddy1', 'dept': 'tech1'}\n",
      "{'_id': ObjectId('60c85bdb6cae20be464f8c75'), 'fname': 'manju2', 'lname': 'reddy2', 'dept': 'tech2'}\n",
      "{'_id': ObjectId('60c85bdb6cae20be464f8c76'), 'fname': 'manju3', 'lname': 'reddy3', 'dept': 'tech3'}\n",
      "{'_id': ObjectId('60c85bdb6cae20be464f8c77'), 'fname': 'manju4', 'lname': 'reddy4', 'dept': 'tech4'}\n",
      "{'_id': ObjectId('60c861436cae20be464f8c78'), 'fname': 'manju', 'lanme': 'reddy', 'dept': 'sales', 'lastModified': datetime.datetime(2021, 6, 15, 13, 32, 24, 233000)}\n",
      "{'_id': ObjectId('60c894086cae20be464f8c7a'), 'sport': {'q1': {'question': 'Which one is correct team name in NBA?', 'options': ['New York Bulls', 'Los Angeles Kings', 'Golden State Warriros', 'Huston Rocket'], 'answer': 'Huston Rocket'}}, 'maths': {'q1': {'question': '5 + 7 = ?', 'options': ['10', '11', '12', '13'], 'answer': '12'}, 'q2': {'question': '12 - 8 = ?', 'options': ['1', '2', '3', '4'], 'answer': '4'}}}\n"
     ]
    }
   ],
   "source": [
    "db.col1.update_many(\n",
    "    {'fname':'manju'},\n",
    "    {'$currentDate': { \"lastModified\": True }},\n",
    "    {}\n",
    ")\n",
    "\n",
    "res = db.col1.find()\n",
    "\n",
    "for i in res:\n",
    "    print(i)"
   ]
  },
  {
   "cell_type": "code",
   "execution_count": 95,
   "id": "2a460a09",
   "metadata": {},
   "outputs": [
    {
     "name": "stdout",
     "output_type": "stream",
     "text": [
      "{'_id': ObjectId('60c85b786cae20be464f8c73'), 'fname': 'manju', 'lname': 'reddy', 'dept': 'tech', 'lastModified': datetime.datetime(2021, 6, 15, 13, 32, 24, 233000)}\n",
      "{'_id': ObjectId('60c85bdb6cae20be464f8c74'), 'fname': 'manju'}\n",
      "{'_id': ObjectId('60c85bdb6cae20be464f8c75'), 'fname': 'manju', 'lname': 'reddy', 'dept': 'tech'}\n",
      "{'_id': ObjectId('60c85bdb6cae20be464f8c76'), 'fname': 'manju', 'lname': 'reddy', 'dept': 'tech'}\n",
      "{'_id': ObjectId('60c85bdb6cae20be464f8c77'), 'fname': 'manju', 'lname': 'reddy', 'dept': 'tech'}\n",
      "{'_id': ObjectId('60c861436cae20be464f8c78'), 'fname': 'manju', 'lanme': 'reddy', 'dept': 'sales', 'lastModified': datetime.datetime(2021, 6, 15, 13, 32, 24, 233000)}\n",
      "{'_id': ObjectId('60c894086cae20be464f8c7a'), 'sport': {'q1': {'question': 'Which one is correct team name in NBA?', 'options': ['New York Bulls', 'Los Angeles Kings', 'Golden State Warriros', 'Huston Rocket'], 'answer': 'Huston Rocket'}}, 'maths': {'q1': {'question': '5 + 7 = ?', 'options': ['10', '11', '12', '13'], 'answer': '12'}, 'q2': {'question': '12 - 8 = ?', 'options': ['1', '2', '3', '4'], 'answer': '4'}}}\n"
     ]
    }
   ],
   "source": [
    "db.col1.replace_one(\n",
    "    {'fname': 'manju4', 'lname': 'reddy4', 'dept': 'tech4'},\n",
    "    {'fname': 'manju', 'lname': 'reddy', 'dept': 'tech'}\n",
    "    \n",
    ")\n",
    "\n",
    "\n",
    "res = db.col1.find()\n",
    "for i in res:\n",
    "    print(i)"
   ]
  },
  {
   "cell_type": "markdown",
   "id": "b694e8b3",
   "metadata": {},
   "source": [
    "### Aggregate functions\n",
    "1. group\n",
    "2. sum\n",
    "3. average\n",
    "4. project"
   ]
  },
  {
   "cell_type": "code",
   "execution_count": 3,
   "id": "a1cb67de",
   "metadata": {},
   "outputs": [],
   "source": [
    "from pymongo import MongoClient\n",
    "client = MongoClient('mongodb://127.0.0.1:27017/')\n"
   ]
  },
  {
   "cell_type": "code",
   "execution_count": 81,
   "id": "31b389cf",
   "metadata": {},
   "outputs": [],
   "source": [
    "database = client['students']\n",
    "collection = database['student_scores']\n",
    "\n",
    "data=[\n",
    "    {'user':'manju','subject':'java','score':80},\n",
    "    {'user':'reddy','subject':'python','score':90},\n",
    "    {'user':'reddy','subject':'javascript','score':70},\n",
    "    {'user':'manju','subject':'python','score':90},\n",
    "    {'user':'reddy','subject':'java','score':75},\n",
    "    {'user':'manju','subject':'javascript','score':75},\n",
    "    {'user':'manju','subject':'javascript','score':75}\n",
    "]"
   ]
  },
  {
   "cell_type": "code",
   "execution_count": 18,
   "id": "f1511ac5",
   "metadata": {},
   "outputs": [
    {
     "data": {
      "text/plain": [
       "<pymongo.results.InsertManyResult at 0x7f726032eb80>"
      ]
     },
     "execution_count": 18,
     "metadata": {},
     "output_type": "execute_result"
    }
   ],
   "source": [
    "collection.insert_many(data)"
   ]
  },
  {
   "cell_type": "code",
   "execution_count": 75,
   "id": "0eb38667",
   "metadata": {},
   "outputs": [
    {
     "name": "stdout",
     "output_type": "stream",
     "text": [
      "{'_id': ObjectId('60c9a2832223e7788a638ab8'), 'user': 'manju', 'subject': 'java', 'score': 80}\n",
      "{'_id': ObjectId('60c9a2832223e7788a638ab9'), 'user': 'reddy', 'subject': 'python', 'score': 90}\n",
      "{'_id': ObjectId('60c9a2832223e7788a638aba'), 'user': 'reddy', 'subject': 'javascript', 'score': 70}\n",
      "{'_id': ObjectId('60c9a2832223e7788a638abb'), 'user': 'manju', 'subject': 'python', 'score': 90}\n",
      "{'_id': ObjectId('60c9a2832223e7788a638abc'), 'user': 'reddy', 'subject': 'java', 'score': 75}\n",
      "{'_id': ObjectId('60c9a2832223e7788a638abd'), 'user': 'manju', 'subject': 'javascript', 'score': 75}\n",
      "{'_id': ObjectId('60c9a41e2223e7788a638abe'), 'user': 'manju', 'subject': 'java', 'score': 80}\n",
      "{'_id': ObjectId('60c9a41e2223e7788a638abf'), 'user': 'reddy', 'subject': 'python', 'score': 90}\n",
      "{'_id': ObjectId('60c9a41e2223e7788a638ac0'), 'user': 'reddy', 'subject': 'javascript', 'score': 70}\n",
      "{'_id': ObjectId('60c9a41e2223e7788a638ac1'), 'user': 'manju', 'subject': 'python', 'score': 90}\n",
      "{'_id': ObjectId('60c9a41e2223e7788a638ac2'), 'user': 'reddy', 'subject': 'java', 'score': 75}\n",
      "{'_id': ObjectId('60c9a41e2223e7788a638ac3'), 'user': 'manju', 'subject': 'javascript', 'score': 75}\n",
      "{'_id': ObjectId('60c9a41e2223e7788a638ac4'), 'user': 'manju', 'subject': 'javascript', 'score': 75}\n"
     ]
    }
   ],
   "source": [
    "all_data = collection.find()\n",
    "for i in all_data:\n",
    "    print(i)"
   ]
  },
  {
   "cell_type": "code",
   "execution_count": 82,
   "id": "3465602a",
   "metadata": {},
   "outputs": [
    {
     "name": "stdout",
     "output_type": "stream",
     "text": [
      "{'_id': 'reddy', 'total records': 6}\n",
      "{'_id': 'manju', 'total records': 7}\n"
     ]
    }
   ],
   "source": [
    "agg_res = collection.aggregate([\n",
    "    {\n",
    "        \"$group\" : {\n",
    "            \"_id\" : \"$user\",\n",
    "            \"total records\" : {\"$sum\" : 1}\n",
    "        }\n",
    "    }\n",
    "])\n",
    "\n",
    "for i in agg_res:\n",
    "    print(i)"
   ]
  },
  {
   "cell_type": "code",
   "execution_count": 83,
   "id": "96b4b250",
   "metadata": {},
   "outputs": [
    {
     "name": "stdout",
     "output_type": "stream",
     "text": [
      "{'_id': 'reddy', 'total score:': 470}\n",
      "{'_id': 'manju', 'total score:': 565}\n"
     ]
    }
   ],
   "source": [
    "agg_res = collection.aggregate([\n",
    "    {\n",
    "        \"$group\" : {\n",
    "            \"_id\" : \"$user\",\n",
    "            \"total score:\" : {\"$sum\" : \"$score\"}\n",
    "        }\n",
    "    }\n",
    "])\n",
    "\n",
    "\n",
    "for i in agg_res:\n",
    "    print(i)\n"
   ]
  },
  {
   "cell_type": "code",
   "execution_count": 84,
   "id": "64317f65",
   "metadata": {},
   "outputs": [
    {
     "name": "stdout",
     "output_type": "stream",
     "text": [
      "{'_id': 'reddy', 'average score:': 78.33333333333333}\n",
      "{'_id': 'manju', 'average score:': 80.71428571428571}\n"
     ]
    }
   ],
   "source": [
    "agg_res = collection.aggregate([\n",
    "    {\n",
    "        \"$group\" : {\n",
    "            \"_id\" : \"$user\",\n",
    "            \"average score:\" : {\"$avg\":\"$score\"}\n",
    "        }\n",
    "    }\n",
    "])\n",
    "\n",
    "for i in agg_res:\n",
    "    print(i)\n",
    "\n",
    "\n"
   ]
  },
  {
   "cell_type": "code",
   "execution_count": 93,
   "id": "3b4aa090",
   "metadata": {},
   "outputs": [
    {
     "name": "stdout",
     "output_type": "stream",
     "text": [
      "{'_id': ObjectId('60c9a2832223e7788a638ab8'), 'user': 'manju', 'subject': 'java', 'score': 80}\n",
      "{'_id': ObjectId('60c9a2832223e7788a638ab9'), 'user': 'reddy', 'subject': 'python', 'score': 90}\n",
      "{'_id': ObjectId('60c9a2832223e7788a638aba'), 'user': 'reddy', 'subject': 'javascript', 'score': 70}\n",
      "{'_id': ObjectId('60c9a2832223e7788a638abb'), 'user': 'manju', 'subject': 'python', 'score': 90}\n",
      "{'_id': ObjectId('60c9a2832223e7788a638abc'), 'user': 'reddy', 'subject': 'java', 'score': 75}\n",
      "{'_id': ObjectId('60c9a2832223e7788a638abd'), 'user': 'manju', 'subject': 'javascript', 'score': 75}\n",
      "{'_id': ObjectId('60c9a41e2223e7788a638abe'), 'user': 'manju', 'subject': 'java', 'score': 80}\n",
      "{'_id': ObjectId('60c9a41e2223e7788a638abf'), 'user': 'reddy', 'subject': 'python', 'score': 90}\n",
      "{'_id': ObjectId('60c9a41e2223e7788a638ac0'), 'user': 'reddy', 'subject': 'javascript', 'score': 70}\n",
      "{'_id': ObjectId('60c9a41e2223e7788a638ac1'), 'user': 'manju', 'subject': 'python', 'score': 90}\n",
      "{'_id': ObjectId('60c9a41e2223e7788a638ac2'), 'user': 'reddy', 'subject': 'java', 'score': 75}\n",
      "{'_id': ObjectId('60c9a41e2223e7788a638ac3'), 'user': 'manju', 'subject': 'javascript', 'score': 75}\n",
      "{'_id': ObjectId('60c9a41e2223e7788a638ac4'), 'user': 'manju', 'subject': 'javascript', 'score': 75}\n"
     ]
    }
   ],
   "source": [
    "## project\n",
    "\n",
    "agg_res = collection.aggregate([\n",
    "    {\n",
    "        \"$project\" : {\"user\" : 1,\"subject\" : 1,\"score\" : 1}\n",
    "    }\n",
    "])\n",
    "\n",
    "for i in agg_res:\n",
    "    print(i)"
   ]
  },
  {
   "cell_type": "code",
   "execution_count": 45,
   "id": "28a5d586",
   "metadata": {},
   "outputs": [],
   "source": [
    "collection = database['stores']"
   ]
  },
  {
   "cell_type": "code",
   "execution_count": 47,
   "id": "7969d84f",
   "metadata": {},
   "outputs": [],
   "source": [
    "import datetime\n",
    "data = [\n",
    "    {\"_id\" : 1,\"item\" : \"avc\", \"price\" : 20, \"quantity\" : 2, \"date\" : datetime.datetime.now()},\n",
    "    {\"_id\" : 2,\"item\" : \"xyz\", \"price\" : 10, \"quantity\" : 4, \"date\" : datetime.datetime.now()},\n",
    "    {\"_id\" : 3,\"item\" : \"vvc\", \"price\" : 25, \"quantity\" : 3, \"date\" : datetime.datetime.now()},\n",
    "    {\"_id\" : 4,\"item\" : \"bbg\", \"price\" : 50, \"quantity\" : 6, \"date\" : datetime.datetime.now()},\n",
    "    {\"_id\" : 5,\"item\" : \"thb\", \"price\" : 30, \"quantity\" : 10, \"date\" : datetime.datetime.now()},\n",
    "    {\"_id\" : 6,\"item\" : \"fgh\", \"price\" : 70, \"quantity\" : 5, \"date\" : datetime.datetime.now()},\n",
    "    {\"_id\" : 7,\"item\" : \"yum\", \"price\" : 15, \"quantity\" : 2, \"date\" : datetime.datetime.now()},\n",
    "    {\"_id\" : 8,\"item\" : \"cur\", \"price\" : 67, \"quantity\" : 1, \"date\" : datetime.datetime.now()},\n",
    "    {\"_id\" : 9,\"item\" : \"bjp\", \"price\" : 50, \"quantity\" : 4, \"date\" : datetime.datetime.now()},\n",
    "    \n",
    "]\n"
   ]
  },
  {
   "cell_type": "code",
   "execution_count": 50,
   "id": "3059175d",
   "metadata": {},
   "outputs": [
    {
     "data": {
      "text/plain": [
       "<pymongo.results.InsertManyResult at 0x7f726063fd00>"
      ]
     },
     "execution_count": 50,
     "metadata": {},
     "output_type": "execute_result"
    }
   ],
   "source": [
    "collection.insert_many(data)"
   ]
  },
  {
   "cell_type": "code",
   "execution_count": 51,
   "id": "c2be4b8f",
   "metadata": {},
   "outputs": [
    {
     "name": "stdout",
     "output_type": "stream",
     "text": [
      "{'_id': 1, 'item': 'avc', 'price': 20, 'quantity': 2, 'date': datetime.datetime(2021, 6, 16, 13, 12, 50, 915000)}\n",
      "{'_id': 2, 'item': 'xyz', 'price': 10, 'quantity': 4, 'date': datetime.datetime(2021, 6, 16, 13, 12, 50, 915000)}\n",
      "{'_id': 3, 'item': 'vvc', 'price': 25, 'quantity': 3, 'date': datetime.datetime(2021, 6, 16, 13, 12, 50, 915000)}\n",
      "{'_id': 4, 'item': 'bbg', 'price': 50, 'quantity': 6, 'date': datetime.datetime(2021, 6, 16, 13, 12, 50, 915000)}\n",
      "{'_id': 5, 'item': 'thb', 'price': 30, 'quantity': 10, 'date': datetime.datetime(2021, 6, 16, 13, 12, 50, 915000)}\n",
      "{'_id': 6, 'item': 'fgh', 'price': 70, 'quantity': 5, 'date': datetime.datetime(2021, 6, 16, 13, 12, 50, 915000)}\n",
      "{'_id': 7, 'item': 'yum', 'price': 15, 'quantity': 2, 'date': datetime.datetime(2021, 6, 16, 13, 12, 50, 915000)}\n",
      "{'_id': 8, 'item': 'cur', 'price': 67, 'quantity': 1, 'date': datetime.datetime(2021, 6, 16, 13, 12, 50, 915000)}\n",
      "{'_id': 9, 'item': 'bjp', 'price': 50, 'quantity': 4, 'date': datetime.datetime(2021, 6, 16, 13, 12, 50, 915000)}\n"
     ]
    }
   ],
   "source": [
    "for i in collection.find():\n",
    "    print(i)"
   ]
  },
  {
   "cell_type": "code",
   "execution_count": 56,
   "id": "6b29c2a8",
   "metadata": {},
   "outputs": [
    {
     "name": "stdout",
     "output_type": "stream",
     "text": [
      "{'_id': 'cur', 'sum price': 67, 'avg price': 67.0}\n",
      "{'_id': 'yum', 'sum price': 30, 'avg price': 30.0}\n",
      "{'_id': 'fgh', 'sum price': 350, 'avg price': 350.0}\n",
      "{'_id': 'thb', 'sum price': 300, 'avg price': 300.0}\n",
      "{'_id': 'bjp', 'sum price': 200, 'avg price': 200.0}\n",
      "{'_id': 'bbg', 'sum price': 300, 'avg price': 300.0}\n",
      "{'_id': 'vvc', 'sum price': 75, 'avg price': 75.0}\n",
      "{'_id': 'xyz', 'sum price': 40, 'avg price': 40.0}\n",
      "{'_id': 'avc', 'sum price': 40, 'avg price': 40.0}\n"
     ]
    }
   ],
   "source": [
    "agg_res = collection.aggregate([\n",
    "    {\n",
    "        \"$group\" : {\n",
    "            \"_id\" : \"$item\",\n",
    "            \"sum price\" : {\"$sum\":{\"$multiply\":[\"$price\",\"$quantity\"]}},\n",
    "            \"avg price\" : {\"$avg\" : {\"$multiply\":[\"$price\",\"$quantity\"]}}\n",
    "        }\n",
    "    }\n",
    "\n",
    "])\n",
    "\n",
    "\n",
    "for i in agg_res:\n",
    "    print(i)\n",
    "\n",
    "\n"
   ]
  },
  {
   "cell_type": "code",
   "execution_count": 104,
   "id": "256ab770",
   "metadata": {},
   "outputs": [],
   "source": [
    "data = [\n",
    "    {\n",
    "  \"_id\" : 4,\n",
    "  \"title\": \"abc123\",\n",
    "  \"isbn\": \"0001122223334\",\n",
    "  \"author\": { \"last\": \"zzz\", \"first\": \"aaa\" },\n",
    "  \"copies\": 5\n",
    "},\n",
    "{\n",
    "  \"_id\" : 5,\n",
    "  \"title\": \"Baked Goods\",\n",
    "  \"isbn\": \"9999999999999\",\n",
    "  \"author\": { \"last\": \"xyz\", \"first\": \"abc\", \"middle\": \"\" },\n",
    "  \"copies\": 2\n",
    "},\n",
    "{\n",
    "  \"_id\" : 6,\n",
    "  \"title\": \"Ice Cream Cakes\",\n",
    "  \"isbn\": \"8888888888888\",\n",
    "  \"author\": { \"last\": \"xyz\", \"first\": \"abc\", \"middle\": \"mmm\" },\n",
    "  \"copies\": 5\n",
    "}\n",
    "]"
   ]
  },
  {
   "cell_type": "code",
   "execution_count": 103,
   "id": "71ce6c04",
   "metadata": {},
   "outputs": [],
   "source": [
    "collection = database['books']"
   ]
  },
  {
   "cell_type": "code",
   "execution_count": 105,
   "id": "e0c513ff",
   "metadata": {},
   "outputs": [
    {
     "data": {
      "text/plain": [
       "<pymongo.results.InsertManyResult at 0x7f7260228480>"
      ]
     },
     "execution_count": 105,
     "metadata": {},
     "output_type": "execute_result"
    }
   ],
   "source": [
    "collection.insert_many(data)\n"
   ]
  },
  {
   "cell_type": "code",
   "execution_count": 106,
   "id": "3e341092",
   "metadata": {},
   "outputs": [
    {
     "name": "stdout",
     "output_type": "stream",
     "text": [
      "{'_id': 1, 'title': 'abc123', 'isbn': '0001122223334', 'author': {'last': 'zzz', 'first': 'aaa'}, 'copies': 5}\n",
      "{'_id': 2, 'title': 'Baked Goods', 'isbn': '9999999999999', 'author': {'last': 'xyz', 'first': 'abc', 'middle': ''}, 'copies': 2}\n",
      "{'_id': 3, 'title': 'Ice Cream Cakes', 'isbn': '8888888888888', 'author': {'last': 'xyz', 'first': 'abc', 'middle': 'mmm'}, 'copies': 5}\n",
      "{'_id': 4, 'title': 'abc123', 'isbn': '0001122223334', 'author': {'last': 'zzz', 'first': 'aaa'}, 'copies': 5}\n",
      "{'_id': 5, 'title': 'Baked Goods', 'isbn': '9999999999999', 'author': {'last': 'xyz', 'first': 'abc', 'middle': ''}, 'copies': 2}\n",
      "{'_id': 6, 'title': 'Ice Cream Cakes', 'isbn': '8888888888888', 'author': {'last': 'xyz', 'first': 'abc', 'middle': 'mmm'}, 'copies': 5}\n"
     ]
    }
   ],
   "source": [
    "for i in collection.find():\n",
    "    print(i)"
   ]
  },
  {
   "cell_type": "code",
   "execution_count": 112,
   "id": "5af8ee04",
   "metadata": {},
   "outputs": [
    {
     "name": "stdout",
     "output_type": "stream",
     "text": [
      "{'_id': 1, 'title': 'abc123'}\n",
      "{'_id': 2, 'title': 'Baked Goods'}\n",
      "{'_id': 3, 'title': 'Ice Cream Cakes'}\n",
      "{'_id': 4, 'title': 'abc123'}\n",
      "{'_id': 5, 'title': 'Baked Goods'}\n",
      "{'_id': 6, 'title': 'Ice Cream Cakes'}\n"
     ]
    }
   ],
   "source": [
    "## project\n",
    "\n",
    "agg_res = collection.aggregate([\n",
    "    {\n",
    "        \"$project\" : {\"title\" : 1}\n",
    "    }\n",
    "    \n",
    "])\n",
    "\n",
    "for i in agg_res:\n",
    "    print(i)"
   ]
  },
  {
   "cell_type": "markdown",
   "id": "10504274",
   "metadata": {},
   "source": [
    "### Uploading images"
   ]
  },
  {
   "cell_type": "code",
   "execution_count": 2,
   "id": "74a8b617",
   "metadata": {},
   "outputs": [],
   "source": [
    "from pymongo import MongoClient\n",
    "import cv2\n",
    "import numpy as np\n",
    "import glob\n",
    "import io\n",
    "from PIL import Image\n"
   ]
  },
  {
   "cell_type": "code",
   "execution_count": 3,
   "id": "f8305c61",
   "metadata": {},
   "outputs": [],
   "source": [
    "client = MongoClient('mongodb://127.0.0.1:27017')\n",
    "\n",
    "db = client['files']\n",
    "collection = db['images']"
   ]
  },
  {
   "cell_type": "code",
   "execution_count": 2,
   "id": "28de0334",
   "metadata": {},
   "outputs": [
    {
     "data": {
      "text/plain": [
       "<pymongo.results.InsertOneResult at 0x7fa5ccdd5fc0>"
      ]
     },
     "execution_count": 2,
     "metadata": {},
     "output_type": "execute_result"
    }
   ],
   "source": [
    "# collection.insert_one({'name':'manju'})"
   ]
  },
  {
   "cell_type": "markdown",
   "id": "af09ef77",
   "metadata": {},
   "source": [
    "### Uploading single image into mongodb"
   ]
  },
  {
   "cell_type": "code",
   "execution_count": 5,
   "id": "ba2b03f2",
   "metadata": {},
   "outputs": [
    {
     "name": "stderr",
     "output_type": "stream",
     "text": [
      "<ipython-input-5-f8d0dcc48be3>:6: DeprecationWarning: tostring() is deprecated. Use tobytes() instead.\n",
      "  img_bytes = np.array(buffer).tostring()\n"
     ]
    },
    {
     "data": {
      "text/plain": [
       "<pymongo.results.InsertOneResult at 0x7f8148765e80>"
      ]
     },
     "execution_count": 5,
     "metadata": {},
     "output_type": "execute_result"
    }
   ],
   "source": [
    "img = cv2.imread('shapes.jpg')\n",
    "\n",
    "\n",
    "## Converting image to bytes  \n",
    "ret, buffer = cv2.imencode('.jpg',img)\n",
    "img_bytes = np.array(buffer).tostring()\n",
    "\n",
    "## inserting into mongo db\n",
    "collection.insert_one({'image_count':1,'image_id':img_bytes})\n",
    "\n",
    "\n",
    "\n",
    "\n",
    "# cv2.imshow('image',img)\n",
    "# cv2.waitKey(0)\n"
   ]
  },
  {
   "cell_type": "markdown",
   "id": "f8819759",
   "metadata": {},
   "source": [
    "### Uploading multiple images into mongodb"
   ]
  },
  {
   "cell_type": "code",
   "execution_count": 5,
   "id": "9b659eb9",
   "metadata": {},
   "outputs": [
    {
     "name": "stdout",
     "output_type": "stream",
     "text": [
      "['/home/manju/python_programs/mongodb/shapes_output.jpg', '/home/manju/python_programs/mongodb/image.jpg', '/home/manju/python_programs/mongodb/black_image.jpg', '/home/manju/python_programs/mongodb/outimage.jpg', '/home/manju/python_programs/mongodb/out.jpg', '/home/manju/python_programs/mongodb/shapes.jpg', '/home/manju/python_programs/mongodb/shapes_output1.jpg', '/home/manju/python_programs/mongodb/out1.jpg', '/home/manju/python_programs/mongodb/text-image.jpg', '/home/manju/python_programs/mongodb/cylinder.jpg']\n"
     ]
    },
    {
     "name": "stderr",
     "output_type": "stream",
     "text": [
      "<ipython-input-5-453bc718f910>:13: DeprecationWarning: tostring() is deprecated. Use tobytes() instead.\n",
      "  img_bytes = np.array(buffer).tostring()\n"
     ]
    }
   ],
   "source": [
    "## Upload multiple images\n",
    "img_folder_path = '/home/manju/python_programs/mongodb/'\n",
    "\n",
    "all_images = glob.glob(img_folder_path+'*.jpg')\n",
    "print(all_images)\n",
    "img_count = 1\n",
    "\n",
    "for image in all_images:\n",
    "    \n",
    "    img = cv2.imread(image)\n",
    "    \n",
    "    ret, buffer = cv2.imencode('.jpg',img)\n",
    "    img_bytes = np.array(buffer).tostring()\n",
    "    \n",
    "    \n",
    "    collection.insert_one({'image_count':img_count,'image_id':img_bytes})\n",
    "    \n",
    "    img_count += 1\n",
    "    "
   ]
  },
  {
   "cell_type": "code",
   "execution_count": 6,
   "id": "bb72ce86",
   "metadata": {},
   "outputs": [
    {
     "name": "stdout",
     "output_type": "stream",
     "text": [
      "{'_id': ObjectId('60cafc56e5a7fb5af0c57133'), 'image_count': 1}\n",
      "{'_id': ObjectId('60cafc56e5a7fb5af0c57134'), 'image_count': 2}\n",
      "{'_id': ObjectId('60cafc56e5a7fb5af0c57135'), 'image_count': 3}\n",
      "{'_id': ObjectId('60cafc56e5a7fb5af0c57136'), 'image_count': 4}\n",
      "{'_id': ObjectId('60cafc56e5a7fb5af0c57137'), 'image_count': 5}\n",
      "{'_id': ObjectId('60cafc56e5a7fb5af0c57138'), 'image_count': 6}\n",
      "{'_id': ObjectId('60cafc56e5a7fb5af0c57139'), 'image_count': 7}\n",
      "{'_id': ObjectId('60cafc56e5a7fb5af0c5713a'), 'image_count': 8}\n",
      "{'_id': ObjectId('60cafc56e5a7fb5af0c5713b'), 'image_count': 9}\n",
      "{'_id': ObjectId('60cafc56e5a7fb5af0c5713c'), 'image_count': 10}\n",
      "{'_id': ObjectId('60cafe49c3b961487c6999bd'), 'image_count': 1}\n",
      "{'_id': ObjectId('60cafe49c3b961487c6999be'), 'image_count': 2}\n",
      "{'_id': ObjectId('60cafe49c3b961487c6999bf'), 'image_count': 3}\n",
      "{'_id': ObjectId('60cafe49c3b961487c6999c0'), 'image_count': 4}\n",
      "{'_id': ObjectId('60cafe49c3b961487c6999c1'), 'image_count': 5}\n",
      "{'_id': ObjectId('60cafe49c3b961487c6999c2'), 'image_count': 6}\n",
      "{'_id': ObjectId('60cafe49c3b961487c6999c3'), 'image_count': 7}\n",
      "{'_id': ObjectId('60cafe49c3b961487c6999c4'), 'image_count': 8}\n",
      "{'_id': ObjectId('60cafe49c3b961487c6999c5'), 'image_count': 9}\n",
      "{'_id': ObjectId('60cafe49c3b961487c6999c6'), 'image_count': 10}\n"
     ]
    }
   ],
   "source": [
    "\n",
    "agg_res = collection.aggregate([\n",
    "    {\n",
    "        \"$project\" : {\"image_count\" : 1}\n",
    "    }\n",
    "    \n",
    "])\n",
    "\n",
    "\n",
    "# print(len(list(agg_res)))\n",
    "for i in agg_res:\n",
    "    print(i)"
   ]
  },
  {
   "cell_type": "code",
   "execution_count": null,
   "id": "a6230507",
   "metadata": {},
   "outputs": [],
   "source": [
    "res = collection.find()\n",
    "\n",
    "for i in res:\n",
    "    print(i['_id'],i['image_count'])\n",
    "    \n",
    "    img1_bytes = i['image_id']\n",
    "    \n",
    "    ## Decoding CV2\n",
    "    decoded = cv2.imdecode(np.frombuffer(img1_bytes, np.uint8), 1)\n",
    "    # print(decoded)\n",
    "    cv2.imshow(str(i['image_count']),decoded)\n",
    "    cv2.waitKey(0)\n",
    "    cv2.destroyAllWindows()\n",
    "    \n",
    "    \n",
    "    \n"
   ]
  },
  {
   "cell_type": "code",
   "execution_count": null,
   "id": "580b0484",
   "metadata": {},
   "outputs": [],
   "source": []
  }
 ],
 "metadata": {
  "kernelspec": {
   "display_name": "Python 3",
   "language": "python",
   "name": "python3"
  },
  "language_info": {
   "codemirror_mode": {
    "name": "ipython",
    "version": 3
   },
   "file_extension": ".py",
   "mimetype": "text/x-python",
   "name": "python",
   "nbconvert_exporter": "python",
   "pygments_lexer": "ipython3",
   "version": "3.8.5"
  }
 },
 "nbformat": 4,
 "nbformat_minor": 5
}
